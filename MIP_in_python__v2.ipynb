{
  "cells": [
    {
      "cell_type": "markdown",
      "metadata": {
        "id": "view-in-github",
        "colab_type": "text"
      },
      "source": [
        "<a href=\"https://colab.research.google.com/github/abi97ty/HVRP_in_MIP_python/blob/main/MIP_in_python__v2.ipynb\" target=\"_parent\"><img src=\"https://colab.research.google.com/assets/colab-badge.svg\" alt=\"Open In Colab\"/></a>"
      ]
    },
    {
      "cell_type": "markdown",
      "source": [
        "**Appendix**"
      ],
      "metadata": {
        "id": "IqjKgj7soMIj"
      }
    },
    {
      "cell_type": "code",
      "execution_count": null,
      "metadata": {
        "id": "nhdiEcnn1bd1"
      },
      "outputs": [],
      "source": [
        "pip install mip"
      ]
    },
    {
      "cell_type": "code",
      "execution_count": null,
      "metadata": {
        "id": "6lH5FYEDr2Zq"
      },
      "outputs": [],
      "source": [
        "from mip import Model, xsum, BINARY, minimize"
      ]
    },
    {
      "cell_type": "code",
      "execution_count": null,
      "metadata": {
        "id": "XpxzbiPtMcLF"
      },
      "outputs": [],
      "source": [
        "import pandas as pd\n",
        "import numpy as np\n",
        "from scipy.spatial.distance import cdist\n",
        "\n",
        "# Load the CSV file\n",
        "coordinates = pd.read_csv('eil51_4.csv', header=None, names=['x', 'y'])\n",
        "\n",
        "# Compute the Euclidean distance matrix\n",
        "distance_matrix = cdist(coordinates[['x', 'y']].values,\n",
        "                        coordinates[['x', 'y']].values, 'euclidean')\n",
        "\n",
        "# Speeds in units per time\n",
        "speed_truck = 0.2  # 0.2 units per hour for truck\n",
        "speed_drone = 0.3  # 0.3 units per hour for drone\n",
        "\n",
        "# Calculate time matrices for truck and drone\n",
        "time_matrix_truck = distance_matrix / speed_truck\n",
        "time_matrix_drone = distance_matrix / speed_drone\n",
        "\n",
        "# These are our tau and tau_prime matrices\n",
        "tau_ij = time_matrix_truck\n",
        "tau_prime_ij = time_matrix_drone\n",
        "\n",
        "# Print matrices to check (optional)\n",
        "#print(\"Truck Time Matrix:\\n\", tau_ij)\n",
        "#print(\"Drone Time Matrix:\\n\", tau_prime_ij)"
      ]
    },
    {
      "cell_type": "code",
      "execution_count": null,
      "metadata": {
        "id": "M0KAcPcHrwC6"
      },
      "outputs": [],
      "source": [
        "# Parameters\n",
        "num_nodes = len(coordinates)        # depot (start and end) considered different node\n",
        "# Initialize the model\n",
        "mo = Model(solver_name='cplex')\n",
        "\n",
        "C = set(range(1,num_nodes-1))       # customers\n",
        "C_truck = {1}                    # Truck-only customers\n",
        "C_prime = {x for x in C if x not in C_truck}    # UAV maybe customers\n",
        "N_0 = set(range(num_nodes-1))       # Departing nodes\n",
        "N_plus = set(range(1, num_nodes))   # Returning nodes\n",
        "N = set(range(num_nodes))           # Total nodes\n",
        "c = len(C)                          # number of customers\n",
        "e = 30                              # Endurance limit of UAV\n",
        "\n",
        "# Function to generate valid sorties for UAV\n",
        "def generate_3_tuples(set_A, set_B, set_C, set_truck):\n",
        "    tuples = set()\n",
        "    for i in set_A-set_truck:\n",
        "        for j in set_B:\n",
        "            for k in set_C-set_truck:\n",
        "                if i != j and j != k and i != k:\n",
        "                    tuples.add((i, j, k))\n",
        "    return tuples\n",
        "P = generate_3_tuples(N_0, C_prime, N_plus, C_truck)\n",
        "\n",
        "s_L = s_R =   1                     # Service times for UAV launch and recovery\n",
        "l = m = n = 0\n",
        "M = 1000                            # A large constant M for the model\n"
      ]
    },
    {
      "cell_type": "code",
      "execution_count": null,
      "metadata": {
        "colab": {
          "base_uri": "https://localhost:8080/"
        },
        "id": "6tSR_RaDr6Ph",
        "outputId": "8cd1a6f3-091d-44b7-8287-33bf3a286bc7",
        "cellView": "code"
      },
      "outputs": [
        {
          "output_type": "stream",
          "name": "stdout",
          "text": [
            "105\n",
            "{(5, 4, 2), (4, 2, 7), (2, 6, 5), (5, 2, 4), (4, 6, 7), (2, 4, 5), (0, 2, 4), (0, 5, 3), (0, 6, 4), (3, 5, 2), (0, 3, 5), (2, 6, 7), (5, 2, 6), (2, 4, 7), (0, 2, 6), (5, 3, 7), (5, 4, 6), (5, 6, 3), (3, 5, 4), (0, 3, 7), (6, 5, 3), (4, 6, 2), (3, 4, 5), (6, 2, 4), (3, 5, 6), (2, 5, 4), (4, 5, 6), (3, 4, 7), (2, 3, 6), (5, 3, 2), (5, 6, 7), (4, 2, 6), (2, 6, 4), (2, 5, 6), (5, 2, 3), (6, 5, 7), (0, 2, 3), (5, 4, 3), (0, 4, 6), (0, 6, 3), (3, 2, 5), (3, 4, 2), (0, 2, 5), (3, 6, 5), (0, 6, 5), (0, 5, 7), (6, 3, 5), (6, 5, 2), (4, 5, 3), (5, 2, 7), (3, 2, 7), (0, 2, 7), (3, 6, 7), (4, 3, 5), (6, 4, 3), (0, 6, 7), (2, 5, 3), (6, 3, 7), (4, 6, 3), (0, 3, 2), (6, 5, 4), (3, 4, 6), (2, 3, 5), (4, 3, 7), (0, 4, 3), (6, 4, 5), (0, 5, 2), (5, 3, 4), (0, 3, 4), (4, 5, 7), (3, 6, 2), (2, 3, 7), (2, 4, 6), (6, 4, 7), (0, 4, 5), (0, 6, 2), (0, 5, 4), (5, 3, 6), (5, 6, 2), (6, 3, 2), (2, 5, 7), (0, 3, 6), (3, 2, 4), (3, 6, 4), (6, 2, 3), (4, 3, 2), (0, 4, 7), (0, 5, 6), (5, 4, 7), (5, 6, 4), (6, 3, 4), (4, 2, 3), (4, 5, 2), (3, 2, 6), (6, 2, 5), (6, 4, 2), (3, 5, 7), (4, 2, 5), (6, 2, 7), (2, 6, 3), (4, 6, 5), (2, 3, 4), (2, 4, 3), (4, 3, 6), (0, 4, 2)}\n",
            "{1}\n",
            "{2, 3, 4, 5, 6}\n"
          ]
        }
      ],
      "source": [
        "print(len(P)) # just to get idea of how big the set is.\n",
        "print(P)\n",
        "print(C_truck)\n",
        "print(C_prime) # for debugging purpose"
      ]
    },
    {
      "cell_type": "code",
      "source": [
        "(0, 1,5) in P # for debugging purpose"
      ],
      "metadata": {
        "id": "Z6FdADdZRRWx",
        "colab": {
          "base_uri": "https://localhost:8080/"
        },
        "outputId": "3e4b85d4-0bf6-4e91-e855-ff16e8020f5c"
      },
      "execution_count": null,
      "outputs": [
        {
          "output_type": "execute_result",
          "data": {
            "text/plain": [
              "False"
            ]
          },
          "metadata": {},
          "execution_count": 75
        }
      ]
    },
    {
      "cell_type": "code",
      "execution_count": null,
      "metadata": {
        "id": "0NbThXf11mo-",
        "colab": {
          "base_uri": "https://localhost:8080/"
        },
        "outputId": "55384314-2a29-471c-a1fc-7f787e617f5d"
      },
      "outputs": [
        {
          "output_type": "stream",
          "name": "stdout",
          "text": [
            "Optimal Solution: 144.56041018095334\n",
            "Optimal Solution: 144.56041018095334\n",
            "Solution saved to \"optimal_solution.csv\"\n"
          ]
        }
      ],
      "source": [
        "# Decision variables\n",
        "# Truck path\n",
        "x_ij = {(i, j): mo.add_var(name=f'x_ij{i}{j}',\n",
        "                           var_type=BINARY)for i in N_0 for j in N_plus if i != j}\n",
        "# UAV Sorties\n",
        "y_ijk = {(i, j, k): mo.add_var(name=f'y_ijk{i}{j}{k}',\n",
        "                               var_type=BINARY) \\\n",
        "         for i in N_0 for j in C_prime if j!=i for k in N_plus if (i, j, k) in P}\n",
        "\n",
        "# Times for truck arrivals at nodes\n",
        "t = {i: mo.add_var(name=f't{i}') for i in N}\n",
        "\n",
        "# Times for UAV operations at nodes\n",
        "t_prime = {i: mo.add_var(name=f't_prime{i}') for i in N}\n",
        "\n",
        "# Auxiliary variable u for subtour prevention\n",
        "u = {i: mo.add_var(name=f'u{i}') for i in N}\n",
        "p_ij = {(i, j): mo.add_var(name=f'p_ij{i}{j}',\n",
        "                           var_type=BINARY) \\\n",
        "        for i in N_0 for j in C if i != j} # auxillary variable\n",
        "\n",
        "# objective function: minimize the final time truck returns to depot\n",
        "mo.objective = minimize(t[c+1])\n",
        "\n",
        "# Constraint (2)\n",
        "for j in C:\n",
        "    mo += xsum(x_ij[i, j] for i in N_0 if i != j) + \\\n",
        "         xsum(y_ijk[i, j, k] for i in N_0 for k in N_plus if (i, j, k) in P and i != j) == 1\n",
        "\n",
        "# Constraint (3)\n",
        "mo += xsum(x_ij[0, j] for j in N_plus) == 1\n",
        "# Constraint (4)\n",
        "mo += xsum(x_ij[i, c+1] for i in N_0) == 1\n",
        "\n",
        "# Constraint (5)\n",
        "for i in C:\n",
        "    for j in N_plus:\n",
        "        if i != j:\n",
        "            mo += u[i] - u[j] + 1 <= (c + 2) * (1 - x_ij[i, j])\n",
        "\n",
        "# Constraint (6)\n",
        "for j in C:\n",
        "    mo += xsum(x_ij[i, j] for i in N_0 if i != j) == xsum(x_ij[j, k] for k in N_plus if k != j)\n",
        "\n",
        "# Constraint (7)\n",
        "for i in N_0:\n",
        "    mo += xsum(y_ijk[i, j, k] for j in C_prime if j != i for k in N_plus if (i, j, k) in P) <= 1\n",
        "\n",
        "# Constraint (8)\n",
        "for k in N_plus:\n",
        "    mo += xsum(y_ijk[i, j, k] for i in N_0 if i != k for j in C_prime if (i, j, k) in P) <= 1\n",
        "\n",
        "# Constraint (9) #check again\n",
        "for i, j, k in P:\n",
        "    if i in C and j in C_prime and j != i and k in N_plus:\n",
        "        mo += 2 * y_ijk[i, j, k] <= xsum(x_ij[h, i] for h in N_0 if h != i) \\\n",
        "                                    + xsum(x_ij[l, k] for l in C if l != k)\n",
        "\n",
        "# Constraint (10)\n",
        "for j in C_prime:\n",
        "    for k in N_plus:\n",
        "        if (0, j, k) in P:\n",
        "            mo += y_ijk[0, j, k] <= xsum(x_ij[h, k] for h in N_0 if h != k)\n",
        "\n",
        "# Constraint (11) #should work\n",
        "for i in C:\n",
        "    for k in N_plus:\n",
        "        if k != i:\n",
        "            mo += u[k] - u[i] >= 1 - (len(C) + 2) * \\\n",
        "                    (1 - xsum(y_ijk[i, j, k] for j in C_prime if (i, j, k) in P))\n",
        "\n",
        "\n",
        "# Constraint (12)\n",
        "for i in C:\n",
        "    mo += t_prime[i] >= t[i] - M * (1 - xsum(y_ijk[i, j, k] for j in C_prime if j != i for k in N_plus if (i, j, k) in P))\n",
        "\n",
        "# Constraint (13)\n",
        "for i in C:\n",
        "    mo += t_prime[i] <= t[i] + M * (1 - xsum(y_ijk[i, j, k] for j in C_prime if j != i for k in N_plus if (i, j, k) in P))\n",
        "\n",
        "# Constraint (14) #should work\n",
        "for k in N_plus:\n",
        "    mo += t_prime[k] >= t[k] - M * (1 - xsum(y_ijk[i, j, k] for i in N_0 if i != k for j in C_prime if (i, j, k) in P))\n",
        "\n",
        "# Constraint 15:  #should work\n",
        "for k in N_plus:\n",
        "    mo += t_prime[k] <= t[k] + M * (1 - xsum(y_ijk[i, j, k] for i in N_0 if i != k for j in C_prime if (i, j, k) in P))\n",
        "\n",
        "# Constraint 16: Truck arrival timing at node k\n",
        "for h in N_0:\n",
        "    for k in N_plus:\n",
        "        if k != h:\n",
        "            mo += t[k] >= t[h] + tau_ij[h, k] + s_L * xsum(y_ijk[k, l, m] for l in C_prime if l != k for m in N_plus if (k, l, m) in P) + \\\n",
        "                 s_R * xsum(y_ijk[i, j, k] for i in N_0 if i != k for j in C_prime if (i, j, k) in P) - \\\n",
        "                 M * (1 - x_ij[h, k])\n",
        "\n",
        "# Constraint 17: Timing for UAV's visit based on truck's schedule # only truck eligible customer.\n",
        "for j in C_prime:\n",
        "    for i in N_0:\n",
        "        if i != j:\n",
        "            mo += t_prime[j] >= t_prime[i] + tau_prime_ij[i, j] - M * (1 - xsum(y_ijk[i, j, k] for k in N_plus if (i, j, k) in P))\n",
        "\n",
        "# Constraint 18: UAV finishing time at customer j and starting at k\n",
        "for j in C_prime:\n",
        "    for k in N_plus:\n",
        "        if k != j:\n",
        "            mo += t_prime[k] >= t_prime[j] + tau_prime_ij[j, k] + s_R - \\\n",
        "                 M * (1 - xsum(y_ijk[i, j, k] for i in N_0 if (i,j,k) in P))\n",
        "\n",
        "# Constraint 19: UAV's flight endurance constraint\n",
        "for k in N_plus:\n",
        "    for j in C:\n",
        "        if j != k:\n",
        "            for i in N_0:\n",
        "                if (i, j, k) in P:\n",
        "                    mo += t_prime[k] - (t_prime[j] - tau_prime_ij[i, j]) <= e + M * (1 - y_ijk[i, j, k])\n",
        "# Constraint 20: Subtour elimination for truck\n",
        "for i in C:\n",
        "    for j in C:\n",
        "        if i != j:\n",
        "            mo += u[i] - u[j] >= 1 - (len(C) + 2) * p_ij[i, j]\n",
        "# Constraint 21: Subtour elimination complement\n",
        "for i in C:\n",
        "    for j in C:\n",
        "        if i != j:\n",
        "            mo += u[i] - u[j] <= -1 + (len(C) + 2) * (1 - p_ij[i, j])\n",
        "# Constraint 22: One-way route between customer pairs\n",
        "for i in C:\n",
        "    for j in C:\n",
        "        if i != j:\n",
        "            mo += p_ij[i, j] + p_ij[j, i] == 1\n",
        "\n",
        "# Constraint 23: Timing for UAV's visit between nodes i, l, and k\n",
        "for i in N_0:\n",
        "    for k in N_plus:\n",
        "        if k != i:\n",
        "            for l in C:\n",
        "                if l != i and l != k:\n",
        "                    mo += t_prime[l] >= t_prime[k] - M * (3 - xsum(y_ijk[i, j, k] for j in C if ((i, j, k) in P and j != l)) \\\n",
        "                                                   - xsum(y_ijk[l, m, n] for m in C if (m != i and m != k and m!= l) \\\n",
        "                                                          for n in N_plus if ((l, m, n) in P and n != i and n != k)) \\\n",
        "                                                   - p_ij[i, l])\n",
        "# Constraint 24\n",
        "mo += t[0] == 0\n",
        "\n",
        "# Constraint 25\n",
        "mo += t_prime[0] == 0\n",
        "\n",
        "# Constraint 26\n",
        "for j in C:\n",
        "    mo += p_ij[0,j] == 1\n",
        "# Constraint 27\n",
        "for i in N_0:\n",
        "  for j in N_plus:\n",
        "    if j != i:\n",
        "      x_ij\n",
        "# Constraint 28\n",
        "# Constraint 29\n",
        "# Bounding constraints for u_i variables\n",
        "for i in N_plus:\n",
        "    mo += 1 <= u[i] <= c + 2\n",
        "\n",
        "# Constraint 30\n",
        "for i in N:\n",
        "    mo += t[i] >= 0\n",
        "\n",
        "# Constraint 31\n",
        "for i in N:\n",
        "    mo += t_prime[i] >= 0\n",
        "\n",
        "# optimizing\n",
        "mo.optimize()\n",
        "# Print the optimal solution\n",
        "if mo.num_solutions:\n",
        "    print('Optimal Solution:', mo.objective_value)\n",
        "    #for v in mo.vars:\n",
        "        #print(f'{v.name}: {v.x}')\n",
        "else:\n",
        "    print('No solution found')\n",
        "\n",
        "import pandas as pd\n",
        "\n",
        "# Saving model solution in csv file\n",
        "if mo.num_solutions:\n",
        "    print('Optimal Solution:', mo.objective_value)\n",
        "\n",
        "    # Extract variable values into a list of dictionaries\n",
        "    solution_data = [{'Variable': v.name, 'Value': v.x} for v in mo.vars]\n",
        "\n",
        "    # Convert list of dictionaries to a DataFrame\n",
        "    solution_df = pd.DataFrame(solution_data)\n",
        "\n",
        "    # Save the DataFrame to a CSV file\n",
        "    solution_df.to_csv('optimal_solution5.csv', index=False)\n",
        "\n",
        "    print('Solution saved to \"optimal_solution.csv\"')\n",
        "else:\n",
        "    print('No solution found')"
      ]
    },
    {
      "cell_type": "code",
      "source": [
        "import pandas as pd\n",
        "# Saving model solution in csv file\n",
        "if mo.num_solutions:\n",
        "    print('Optimal Solution:', mo.objective_value)\n",
        "\n",
        "    # Extract variable values into a list of dictionaries\n",
        "    solution_data = [{'Variable': v.name, 'Value': v.x} for v in mo.vars]\n",
        "\n",
        "    # Convert list of dictionaries to a DataFrame\n",
        "    solution_df = pd.DataFrame(solution_data)\n",
        "\n",
        "    # Save the DataFrame to a CSV file\n",
        "    solution_df.to_csv('optimal_solution2.csv', index=False)\n",
        "\n",
        "    print('Solution saved to \"optimal_solution2.csv\"')\n",
        "else:\n",
        "    print('No solution found')\n"
      ],
      "metadata": {
        "colab": {
          "base_uri": "https://localhost:8080/"
        },
        "id": "NJGOMlvYXWYF",
        "outputId": "8351fdfd-8676-47fb-d595-8a2daabeb975"
      },
      "execution_count": null,
      "outputs": [
        {
          "output_type": "stream",
          "name": "stdout",
          "text": [
            "Optimal Solution: 144.56041018095334\n",
            "Solution saved to \"optimal_solution2.csv\"\n"
          ]
        }
      ]
    },
    {
      "cell_type": "code",
      "source": [
        "# Print all solution\n",
        "if mo.num_solutions:\n",
        "    print('Optimal Solution:', mo.objective_value)\n",
        "    for v in mo.vars:\n",
        "      print(f'{v.name}: {v.x}')\n",
        "else:\n",
        "    print('No solution found')"
      ],
      "metadata": {
        "id": "5xidOT1oAycH"
      },
      "execution_count": null,
      "outputs": []
    },
    {
      "cell_type": "markdown",
      "source": [
        "## **Present the Result**"
      ],
      "metadata": {
        "id": "9MHSk6YMN2nG"
      }
    },
    {
      "cell_type": "code",
      "execution_count": null,
      "metadata": {
        "id": "xftGcIVigTrj",
        "colab": {
          "base_uri": "https://localhost:8080/",
          "height": 448
        },
        "outputId": "797054b1-25bf-488e-9456-1204fd289202"
      },
      "outputs": [
        {
          "output_type": "display_data",
          "data": {
            "text/plain": [
              "<Figure size 640x480 with 1 Axes>"
            ],
            "image/png": "[encoded data removed]"
          },
          "metadata": {}
        }
      ],
      "source": [
        "import networkx as nx\n",
        "import matplotlib.pyplot as plt\n",
        "\n",
        "if mo.num_solutions:\n",
        "    # Create a directed graph\n",
        "    G = nx.DiGraph()\n",
        "\n",
        "    # And 'N' is the set of all nodes, including the depot\n",
        "    G.add_nodes_from(N)\n",
        "    pos = {node: (x, y) for node, x, y in zip(N, coordinates['x'], coordinates['y'])}\n",
        "\n",
        "    # Define node colors based on their type (truck only or both)\n",
        "    truck_only_nodes = [i for i in C_truck]  # Define how to identify truck only nodes\n",
        "    node_colors = ['orange' if node in truck_only_nodes else 'lightblue' for node in G.nodes()]\n",
        "\n",
        "    # Draw nodes with different classifications\n",
        "    customer_nodes = [node for node in G.nodes() if node not in truck_only_nodes and node != 0]\n",
        "    nx.draw_networkx_nodes(G, pos, nodelist=customer_nodes, node_color='lightblue', edgecolors='black', node_size=300, label='Customers')\n",
        "    nx.draw_networkx_nodes(G, pos, nodelist=truck_only_nodes, node_color='orange', edgecolors='black', node_size=300, label='Truck Only Customers')\n",
        "    nx.draw_networkx_nodes(G, pos, nodelist=[0], node_color='lightgreen', edgecolors='black', node_size=300, node_shape='s', label='Depot')\n",
        "\n",
        "    # Draw edges and add labels to legend\n",
        "    truck_edges = [(i, j) for i, j in x_ij if x_ij[i, j].x >= 0.99]\n",
        "    uav_edges = [(i, j) for i, j, k in y_ijk if y_ijk[i, j, k].x >= 0.99] + [(j, k) for i, j, k in y_ijk if y_ijk[i, j, k].x >= 0.99]\n",
        "    nx.draw_networkx_edges(G, pos, edgelist=truck_edges, width=1, edge_color='blue', style='solid', label='Truck Route')\n",
        "    nx.draw_networkx_edges(G, pos, edgelist=uav_edges, width=1, edge_color='red', style='dashed', label='Drone Route')\n",
        "\n",
        "    # Draw node labels\n",
        "    for node, (x, y) in pos.items():\n",
        "        if node != len(C)+1:  # Only label non-depot nodes\n",
        "            plt.text(x, y, s=node, fontsize=8, ha='center', va='center')\n",
        "\n",
        "    # Setup plot details\n",
        "    plt.title('Optimal Routing with Truck and UAV')\n",
        "    plt.xlabel('X-coordinate')\n",
        "    plt.ylabel('Y-coordinate')\n",
        "    plt.grid(True, linestyle='--', linewidth=0.5, color='gray', alpha=0.3)\n",
        "    plt.xticks(range(int(min(coordinates['x'])) - 1, int(max(coordinates['x'])) + 2))\n",
        "    plt.yticks(range(int(min(coordinates['y'])) - 1, int(max(coordinates['y'])) + 2))\n",
        "    plt.axis('equal')\n",
        "\n",
        "    # Create and position the legend\n",
        "    legend = plt.legend(loc='best', fontsize='small', title=\"Node type\", markerscale=0.5)\n",
        "    plt.setp(legend.get_title(), fontsize='x-small')  # Set legend title font size\n",
        "\n",
        "    # Show plot\n",
        "    plt.show()"
      ]
    },
    {
      "cell_type": "code",
      "execution_count": null,
      "metadata": {
        "id": "rEkWrTj-3DKr",
        "colab": {
          "base_uri": "https://localhost:8080/",
          "height": 135
        },
        "outputId": "4598dc8b-a2f2-4107-bd5b-3501525354c2"
      },
      "outputs": [
        {
          "output_type": "display_data",
          "data": {
            "text/plain": [
              "<Figure size 3000x200 with 1 Axes>"
            ],
            "image/png": "[encoded data removed]"
          },
          "metadata": {}
        }
      ],
      "source": [
        "import matplotlib.patches as patches\n",
        "\n",
        "# Extract the time each truck and UAV reaches each node from the model's variables\n",
        "truck_times = {int(v.name[1:]): v.x for v in mo.vars if v.name.startswith('t') and not v.name.startswith('t_prime')}\n",
        "uav_times = {int(v.name[7:]): v.x for v in mo.vars if v.name.startswith('t_prime')}\n",
        "\n",
        "# Define the sequence of nodes visited by the truck and UAV\n",
        "# For instance, we can retrieve this from the model solution as well\n",
        "truck_route = [0, 6, 1, 5, 3, 7]\n",
        "uav_sorties = [(0, 2, 6), (5,4,7)]\n",
        "\n",
        "# Start plotting\n",
        "fig, ax = plt.subplots(figsize=(30, 2))\n",
        "\n",
        "# Define a starting point for the bars\n",
        "truck_start_time = 0\n",
        "uav_start_time = 0\n",
        "\n",
        "# Plot the truck route segments\n",
        "for i in range(len(truck_route)-1):\n",
        "    start_node = truck_route[i]\n",
        "    end_node = truck_route[i+1]\n",
        "    duration = truck_times[end_node] - truck_times[start_node]\n",
        "    ax.broken_barh([(truck_times[start_node], duration)], (0.02, 0.08), facecolors='lightblue', edgecolor='black')\n",
        "    label = f\"{start_node} → {end_node}\"\n",
        "    text_x = truck_times[start_node]+duration/2\n",
        "    ax.text(text_x, 0.06, label, fontsize=16,  ha='center', va='center')\n",
        "    truck_start_time += duration\n",
        "\n",
        "\n",
        "# Plot the UAV sortie segments\n",
        "for sortie in uav_sorties:\n",
        "    start_node, j, end_node = sortie\n",
        "    duration = uav_times[end_node] - uav_times[start_node]\n",
        "    uav_start_time = uav_times[start_node]\n",
        "    ax.broken_barh([(uav_start_time, duration)], (0.12, 0.08), facecolors='lightcoral', edgecolor='black')\n",
        "    label = f\"{start_node} → {j} → {end_node}\"\n",
        "    text_x = truck_times[start_node]+duration/2\n",
        "    ax.text(text_x, 0.16, label, fontsize=16,  ha='center', va='center')\n",
        "    uav_start_time += duration\n",
        "\n",
        "# Customizing the plot\n",
        "ax.set_xlabel('Time', fontsize=16)\n",
        "ax.set_xticks(np.arange(0, 101, 5), minor=True)\n",
        "ax.set_yticks([0.06, 0.16])\n",
        "ax.set_yticklabels(['Truck', 'UAV'], fontsize=16)\n",
        "ax.set_ylim(0, 0.22)\n",
        "ax.set_xlim(0, truck_times[7]) #truck_start_time)\n",
        "ax.grid(True, which='both', linestyle='--', linewidth=0.5, alpha=0.8)\n",
        "ax.set_title('Truck and UAV Routing timeline', fontsize=16)\n",
        "\n",
        "# Remove spines and y-axis ticks\n",
        "ax.spines['left'].set_visible(True)\n",
        "ax.spines['right'].set_visible(False)\n",
        "ax.spines['top'].set_visible(False)\n",
        "\n",
        "plt.show()\n"
      ]
    },
    {
      "cell_type": "code",
      "source": [
        "!jupyter nbconvert --to html MIP_in_python__v2.ipynb"
      ],
      "metadata": {
        "colab": {
          "base_uri": "https://localhost:8080/"
        },
        "id": "gl6gKDTTl_YB",
        "outputId": "124bc7d7-47be-46ec-d0c9-e2c8904f4e5b"
      },
      "execution_count": null,
      "outputs": [
        {
          "output_type": "stream",
          "name": "stdout",
          "text": [
            "[NbConvertApp] Converting notebook MIP_in_python__v2.ipynb to html\n",
            "[NbConvertApp] Writing 774275 bytes to MIP_in_python__v2.html\n"
          ]
        }
      ]
    },
    {
      "cell_type": "code",
      "source": [],
      "metadata": {
        "id": "-hzy_ZJ-mDjc"
      },
      "execution_count": null,
      "outputs": []
    }
  ],
  "metadata": {
    "colab": {
      "provenance": [],
      "authorship_tag": "ABX9TyOs60bwBewteDoxSb8NEJr0",
      "include_colab_link": true
    },
    "kernelspec": {
      "display_name": "Python 3",
      "name": "python3"
    },
    "language_info": {
      "name": "python"
    }
  },
  "nbformat": 4,
  "nbformat_minor": 0
}